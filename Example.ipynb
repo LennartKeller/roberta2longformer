{
 "cells": [
  {
   "cell_type": "code",
   "execution_count": 1,
   "id": "8e81be81-45c6-453e-909d-cd5e0a7a99e1",
   "metadata": {},
   "outputs": [
    {
     "name": "stderr",
     "output_type": "stream",
     "text": [
      "Some weights of the model checkpoint at uklfr/gottbert-base were not used when initializing RobertaModel: ['lm_head.decoder.bias', 'lm_head.layer_norm.bias', 'lm_head.bias', 'lm_head.dense.bias', 'lm_head.layer_norm.weight', 'lm_head.dense.weight', 'lm_head.decoder.weight']\n",
      "- This IS expected if you are initializing RobertaModel from the checkpoint of a model trained on another task or with another architecture (e.g. initializing a BertForSequenceClassification model from a BertForPreTraining model).\n",
      "- This IS NOT expected if you are initializing RobertaModel from the checkpoint of a model that you expect to be exactly identical (initializing a BertForSequenceClassification model from a BertForSequenceClassification model).\n"
     ]
    }
   ],
   "source": [
    "from roberta2longformer import convert_roberta_to_longformer\n",
    "\n",
    "from transformers import RobertaModel, RobertaTokenizerFast\n",
    "from transformers import LongformerModel, LongformerTokenizerFast\n",
    "\n",
    "roberta_model = RobertaModel.from_pretrained(\"uklfr/gottbert-base\")\n",
    "roberta_tokenizer = RobertaTokenizerFast.from_pretrained(\"uklfr/gottbert-base\")"
   ]
  },
  {
   "cell_type": "code",
   "execution_count": 2,
   "id": "4d0acd3f-7501-42f1-9f71-7fac4e41b237",
   "metadata": {},
   "outputs": [
    {
     "name": "stderr",
     "output_type": "stream",
     "text": [
      "The tokenizer class you load from this checkpoint is not the same type as the class this function is called from. It may result in unexpected tokenization. \n",
      "The tokenizer class you load from this checkpoint is 'RobertaTokenizer'. \n",
      "The class this function is called from is 'LongformerTokenizerFast'.\n"
     ]
    }
   ],
   "source": [
    "longformer_model, longformer_tokenizer = convert_roberta_to_longformer(\n",
    "    roberta_model=roberta_model,\n",
    "    roberta_tokenizer=roberta_tokenizer,\n",
    "    longformer_max_length=8192\n",
    ")"
   ]
  },
  {
   "cell_type": "code",
   "execution_count": 3,
   "id": "eeceadc6-4370-4ecb-a3cd-3b6178a7e86b",
   "metadata": {},
   "outputs": [
    {
     "data": {
      "text/plain": [
       "('tmp/longformer-gottbert/tokenizer_config.json',\n",
       " 'tmp/longformer-gottbert/special_tokens_map.json',\n",
       " 'tmp/longformer-gottbert/vocab.json',\n",
       " 'tmp/longformer-gottbert/merges.txt',\n",
       " 'tmp/longformer-gottbert/added_tokens.json',\n",
       " 'tmp/longformer-gottbert/tokenizer.json')"
      ]
     },
     "execution_count": 3,
     "metadata": {},
     "output_type": "execute_result"
    }
   ],
   "source": [
    "longformer_model.save_pretrained(\"tmp/longformer-gottbert\")\n",
    "longformer_tokenizer.save_pretrained(\"tmp/longformer-gottbert\")"
   ]
  },
  {
   "cell_type": "code",
   "execution_count": 4,
   "id": "880c042d-dc7d-443a-8be3-4a99007a109c",
   "metadata": {},
   "outputs": [],
   "source": [
    "longformer_model = LongformerModel.from_pretrained(\"tmp/longformer-gottbert\")\n",
    "longformer_tokenizer = LongformerTokenizerFast.from_pretrained(\"tmp/longformer-gottbert\")"
   ]
  },
  {
   "cell_type": "code",
   "execution_count": 5,
   "id": "df57f697-7c2c-4301-ba12-20829e3761a4",
   "metadata": {},
   "outputs": [],
   "source": [
    "inputs = longformer_tokenizer(\"Er sah eine irdische Zentralregierung, und er erblickte Frieden, Wohlstand und galaktische Anerkennung.\"\n",
    "                              \"Es war eine Vision, doch er nahm sie mit vollen Sinnen in sich auf.\"\n",
    "                              \"Im Laderaum der STARDUST begann eine rätselhafte Maschine zu summen.\"\n",
    "                              \"Die dritte Macht nahm die Arbeit auf.\"\n",
    "                              \"Da lächelte Perry Rhodan zum blauen Himmel empor.\"\n",
    "                              \"Langsam löste er die Rangabzeichen von dem Schulterstück seiner Kombination.\",\n",
    "                              return_tensors=\"pt\")\n",
    "ouputs = longformer_model(**inputs)"
   ]
  },
  {
   "cell_type": "code",
   "execution_count": 6,
   "id": "ac25c08f-d205-45f4-b8b5-91cd90e4eb59",
   "metadata": {},
   "outputs": [
    {
     "data": {
      "text/plain": [
       "('layer.0.attention.self.query.weight',\n",
       " tensor([[-0.0269,  0.0167,  0.1127,  ...,  0.0181, -0.0102,  0.0051],\n",
       "         [ 0.0810,  0.0226,  0.0244,  ..., -0.0358,  0.0325,  0.0302],\n",
       "         [ 0.0144,  0.0280,  0.0135,  ..., -0.0652,  0.0628, -0.0140],\n",
       "         ...,\n",
       "         [-0.0131,  0.0109,  0.0334,  ..., -0.0476,  0.0423,  0.0392],\n",
       "         [ 0.0170,  0.0442, -0.0579,  ..., -0.0340, -0.0264, -0.0402],\n",
       "         [ 0.0092, -0.0088, -0.0338,  ...,  0.0180,  0.0569,  0.0584]]))"
      ]
     },
     "execution_count": 6,
     "metadata": {},
     "output_type": "execute_result"
    }
   ],
   "source": [
    "list(longformer_model.encoder.state_dict().items())[0]"
   ]
  },
  {
   "cell_type": "code",
   "execution_count": 7,
   "id": "52f9167d-2c99-4979-9c51-7f436949dea6",
   "metadata": {},
   "outputs": [
    {
     "data": {
      "text/plain": [
       "('layer.0.attention.self.query.weight',\n",
       " tensor([[-0.0269,  0.0167,  0.1127,  ...,  0.0181, -0.0102,  0.0051],\n",
       "         [ 0.0810,  0.0226,  0.0244,  ..., -0.0358,  0.0325,  0.0302],\n",
       "         [ 0.0144,  0.0280,  0.0135,  ..., -0.0652,  0.0628, -0.0140],\n",
       "         ...,\n",
       "         [-0.0131,  0.0109,  0.0334,  ..., -0.0476,  0.0423,  0.0392],\n",
       "         [ 0.0170,  0.0442, -0.0579,  ..., -0.0340, -0.0264, -0.0402],\n",
       "         [ 0.0092, -0.0088, -0.0338,  ...,  0.0180,  0.0569,  0.0584]]))"
      ]
     },
     "execution_count": 7,
     "metadata": {},
     "output_type": "execute_result"
    }
   ],
   "source": [
    "list(roberta_model.encoder.state_dict().items())[0]"
   ]
  },
  {
   "cell_type": "code",
   "execution_count": 8,
   "id": "2d337e08-92c2-4053-8c76-cb7fd64a655c",
   "metadata": {},
   "outputs": [
    {
     "data": {
      "text/plain": [
       "('word_embeddings.weight',\n",
       " tensor([[-0.0071, -0.1073,  0.1197,  ..., -0.0265,  0.1016, -0.0173],\n",
       "         [-0.0232, -0.0226,  0.0150,  ..., -0.0031,  0.0157, -0.0189],\n",
       "         [ 0.0167,  0.2000,  0.0245,  ...,  0.0293, -0.0021,  0.0197],\n",
       "         ...,\n",
       "         [-0.0061, -0.0659,  0.0326,  ...,  0.0021,  0.0040, -0.0293],\n",
       "         [-0.0052,  0.0323,  0.0685,  ...,  0.0269,  0.0426, -0.0095],\n",
       "         [ 0.0011, -0.0304, -0.0013,  ...,  0.0030,  0.0210,  0.0010]]))"
      ]
     },
     "execution_count": 8,
     "metadata": {},
     "output_type": "execute_result"
    }
   ],
   "source": [
    "list(longformer_model.embeddings.state_dict().items())[1]"
   ]
  },
  {
   "cell_type": "code",
   "execution_count": 9,
   "id": "12a8d684-d7a6-47c9-902c-dfd6a59b1dfb",
   "metadata": {},
   "outputs": [
    {
     "data": {
      "text/plain": [
       "('word_embeddings.weight',\n",
       " tensor([[-0.0071, -0.1073,  0.1197,  ..., -0.0265,  0.1016, -0.0173],\n",
       "         [-0.0232, -0.0226,  0.0150,  ..., -0.0031,  0.0157, -0.0189],\n",
       "         [ 0.0167,  0.2000,  0.0245,  ...,  0.0293, -0.0021,  0.0197],\n",
       "         ...,\n",
       "         [-0.0061, -0.0659,  0.0326,  ...,  0.0021,  0.0040, -0.0293],\n",
       "         [-0.0052,  0.0323,  0.0685,  ...,  0.0269,  0.0426, -0.0095],\n",
       "         [ 0.0011, -0.0304, -0.0013,  ...,  0.0030,  0.0210,  0.0010]]))"
      ]
     },
     "execution_count": 9,
     "metadata": {},
     "output_type": "execute_result"
    }
   ],
   "source": [
    "list(roberta_model.embeddings.state_dict().items())[1]"
   ]
  },
  {
   "cell_type": "code",
   "execution_count": 10,
   "id": "294af7bd-7ca0-401e-9025-8caf3d7d9245",
   "metadata": {},
   "outputs": [
    {
     "data": {
      "text/plain": [
       "('position_ids', tensor([[   0,    1,    2,  ..., 8191, 8192, 8193]]))"
      ]
     },
     "execution_count": 10,
     "metadata": {},
     "output_type": "execute_result"
    }
   ],
   "source": [
    "list(longformer_model.embeddings.state_dict().items())[0]"
   ]
  }
 ],
 "metadata": {
  "kernelspec": {
   "display_name": "Python 3 (ipykernel)",
   "language": "python",
   "name": "python3"
  },
  "language_info": {
   "codemirror_mode": {
    "name": "ipython",
    "version": 3
   },
   "file_extension": ".py",
   "mimetype": "text/x-python",
   "name": "python",
   "nbconvert_exporter": "python",
   "pygments_lexer": "ipython3",
   "version": "3.9.7"
  }
 },
 "nbformat": 4,
 "nbformat_minor": 5
}
