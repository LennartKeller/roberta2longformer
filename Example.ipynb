{
 "cells": [
  {
   "cell_type": "code",
   "execution_count": 1,
   "id": "8e81be81-45c6-453e-909d-cd5e0a7a99e1",
   "metadata": {},
   "outputs": [
    {
     "data": {
      "application/vnd.jupyter.widget-view+json": {
       "model_id": "f819f223fb304bcf87c229dda90d74d6",
       "version_major": 2,
       "version_minor": 0
      },
      "text/plain": [
       "Downloading:   0%|          | 0.00/481 [00:00<?, ?B/s]"
      ]
     },
     "metadata": {},
     "output_type": "display_data"
    },
    {
     "data": {
      "application/vnd.jupyter.widget-view+json": {
       "model_id": "c565bc9618734c97849bc949d1a09264",
       "version_major": 2,
       "version_minor": 0
      },
      "text/plain": [
       "Downloading:   0%|          | 0.00/478M [00:00<?, ?B/s]"
      ]
     },
     "metadata": {},
     "output_type": "display_data"
    },
    {
     "name": "stderr",
     "output_type": "stream",
     "text": [
      "Some weights of the model checkpoint at roberta-base were not used when initializing RobertaModel: ['lm_head.dense.bias', 'lm_head.layer_norm.weight', 'lm_head.layer_norm.bias', 'lm_head.dense.weight', 'lm_head.bias', 'lm_head.decoder.weight']\n",
      "- This IS expected if you are initializing RobertaModel from the checkpoint of a model trained on another task or with another architecture (e.g. initializing a BertForSequenceClassification model from a BertForPreTraining model).\n",
      "- This IS NOT expected if you are initializing RobertaModel from the checkpoint of a model that you expect to be exactly identical (initializing a BertForSequenceClassification model from a BertForSequenceClassification model).\n"
     ]
    },
    {
     "data": {
      "application/vnd.jupyter.widget-view+json": {
       "model_id": "4ee9a21f73c64f638feb8f1ec26175f3",
       "version_major": 2,
       "version_minor": 0
      },
      "text/plain": [
       "Downloading:   0%|          | 0.00/878k [00:00<?, ?B/s]"
      ]
     },
     "metadata": {},
     "output_type": "display_data"
    },
    {
     "data": {
      "application/vnd.jupyter.widget-view+json": {
       "model_id": "bd7bc2c82cdf4b53a7e405a52b4662c0",
       "version_major": 2,
       "version_minor": 0
      },
      "text/plain": [
       "Downloading:   0%|          | 0.00/446k [00:00<?, ?B/s]"
      ]
     },
     "metadata": {},
     "output_type": "display_data"
    },
    {
     "data": {
      "application/vnd.jupyter.widget-view+json": {
       "model_id": "8069b65eef70463a84f885e721811d17",
       "version_major": 2,
       "version_minor": 0
      },
      "text/plain": [
       "Downloading:   0%|          | 0.00/1.29M [00:00<?, ?B/s]"
      ]
     },
     "metadata": {},
     "output_type": "display_data"
    }
   ],
   "source": [
    "from roberta2longformer import convert_roberta_to_longformer\n",
    "\n",
    "from transformers import RobertaModel, RobertaTokenizerFast\n",
    "from transformers import LongformerModel, LongformerTokenizerFast\n",
    "\n",
    "# uklfr/gottbert-base\n",
    "roberta_model = RobertaModel.from_pretrained(\"roberta-base\")\n",
    "roberta_tokenizer = RobertaTokenizerFast.from_pretrained(\"roberta-base\")"
   ]
  },
  {
   "cell_type": "code",
   "execution_count": 2,
   "id": "4d0acd3f-7501-42f1-9f71-7fac4e41b237",
   "metadata": {},
   "outputs": [
    {
     "name": "stderr",
     "output_type": "stream",
     "text": [
      "The tokenizer class you load from this checkpoint is not the same type as the class this function is called from. It may result in unexpected tokenization. \n",
      "The tokenizer class you load from this checkpoint is 'RobertaTokenizer'. \n",
      "The class this function is called from is 'LongformerTokenizerFast'.\n"
     ]
    }
   ],
   "source": [
    "longformer_model, longformer_tokenizer = convert_roberta_to_longformer(\n",
    "    roberta_model=roberta_model,\n",
    "    roberta_tokenizer=roberta_tokenizer,\n",
    "    longformer_max_length=8192,\n",
    ")"
   ]
  },
  {
   "cell_type": "code",
   "execution_count": 3,
   "id": "eeceadc6-4370-4ecb-a3cd-3b6178a7e86b",
   "metadata": {},
   "outputs": [
    {
     "data": {
      "text/plain": [
       "('tmp/longformer-gottbert/tokenizer_config.json',\n",
       " 'tmp/longformer-gottbert/special_tokens_map.json',\n",
       " 'tmp/longformer-gottbert/vocab.json',\n",
       " 'tmp/longformer-gottbert/merges.txt',\n",
       " 'tmp/longformer-gottbert/added_tokens.json',\n",
       " 'tmp/longformer-gottbert/tokenizer.json')"
      ]
     },
     "execution_count": 3,
     "metadata": {},
     "output_type": "execute_result"
    }
   ],
   "source": [
    "longformer_model.save_pretrained(\"tmp/longformer-gottbert\")\n",
    "longformer_tokenizer.save_pretrained(\"tmp/longformer-gottbert\")"
   ]
  },
  {
   "cell_type": "code",
   "execution_count": 4,
   "id": "880c042d-dc7d-443a-8be3-4a99007a109c",
   "metadata": {},
   "outputs": [],
   "source": [
    "longformer_model = LongformerModel.from_pretrained(\"tmp/longformer-gottbert\")\n",
    "longformer_tokenizer = LongformerTokenizerFast.from_pretrained(\n",
    "    \"tmp/longformer-gottbert\"\n",
    ")"
   ]
  },
  {
   "cell_type": "code",
   "execution_count": 5,
   "id": "df57f697-7c2c-4301-ba12-20829e3761a4",
   "metadata": {},
   "outputs": [],
   "source": [
    "inputs = longformer_tokenizer(\n",
    "    \"Er sah eine irdische Zentralregierung, und er erblickte Frieden, Wohlstand und galaktische Anerkennung.\"\n",
    "    \"Es war eine Vision, doch er nahm sie mit vollen Sinnen in sich auf.\"\n",
    "    \"Im Laderaum der STARDUST begann eine rätselhafte Maschine zu summen.\"\n",
    "    \"Die dritte Macht nahm die Arbeit auf.\"\n",
    "    \"Da lächelte Perry Rhodan zum blauen Himmel empor.\"\n",
    "    \"Langsam löste er die Rangabzeichen von dem Schulterstück seiner Kombination.\",\n",
    "    return_tensors=\"pt\",\n",
    ")\n",
    "ouputs = longformer_model(**inputs)"
   ]
  },
  {
   "cell_type": "code",
   "execution_count": 6,
   "id": "ac25c08f-d205-45f4-b8b5-91cd90e4eb59",
   "metadata": {},
   "outputs": [
    {
     "data": {
      "text/plain": [
       "('layer.0.attention.self.query.weight',\n",
       " tensor([[ 0.0729, -0.0029, -0.0902,  ...,  0.1033,  0.0900, -0.1030],\n",
       "         [-0.0516,  0.2061,  0.0739,  ...,  0.0657,  0.0634,  0.1282],\n",
       "         [ 0.0878,  0.0698, -0.0515,  ..., -0.0426, -0.0081,  0.1100],\n",
       "         ...,\n",
       "         [-0.1871,  0.0172, -0.0315,  ..., -0.0503,  0.1024, -0.1165],\n",
       "         [-0.2532,  0.0439,  0.0638,  ...,  0.0701, -0.1045,  0.0118],\n",
       "         [-0.0516, -0.0859,  0.1027,  ..., -0.1895,  0.0033, -0.0541]]))"
      ]
     },
     "execution_count": 6,
     "metadata": {},
     "output_type": "execute_result"
    }
   ],
   "source": [
    "list(longformer_model.encoder.state_dict().items())[0]"
   ]
  },
  {
   "cell_type": "code",
   "execution_count": 7,
   "id": "52f9167d-2c99-4979-9c51-7f436949dea6",
   "metadata": {},
   "outputs": [
    {
     "data": {
      "text/plain": [
       "('layer.0.attention.self.query.weight',\n",
       " tensor([[ 0.0729, -0.0029, -0.0902,  ...,  0.1033,  0.0900, -0.1030],\n",
       "         [-0.0516,  0.2061,  0.0739,  ...,  0.0657,  0.0634,  0.1282],\n",
       "         [ 0.0878,  0.0698, -0.0515,  ..., -0.0426, -0.0081,  0.1100],\n",
       "         ...,\n",
       "         [-0.1871,  0.0172, -0.0315,  ..., -0.0503,  0.1024, -0.1165],\n",
       "         [-0.2532,  0.0439,  0.0638,  ...,  0.0701, -0.1045,  0.0118],\n",
       "         [-0.0516, -0.0859,  0.1027,  ..., -0.1895,  0.0033, -0.0541]]))"
      ]
     },
     "execution_count": 7,
     "metadata": {},
     "output_type": "execute_result"
    }
   ],
   "source": [
    "list(roberta_model.encoder.state_dict().items())[0]"
   ]
  },
  {
   "cell_type": "code",
   "execution_count": 8,
   "id": "2d337e08-92c2-4053-8c76-cb7fd64a655c",
   "metadata": {},
   "outputs": [
    {
     "data": {
      "text/plain": [
       "('word_embeddings.weight',\n",
       " tensor([[ 0.1476, -0.0365,  0.0753,  ..., -0.0023,  0.0172, -0.0016],\n",
       "         [ 0.0156,  0.0076, -0.0118,  ..., -0.0022,  0.0081, -0.0156],\n",
       "         [-0.0347, -0.0873, -0.0180,  ...,  0.1174, -0.0098, -0.0355],\n",
       "         ...,\n",
       "         [ 0.0304,  0.0504, -0.0307,  ...,  0.0377,  0.0096,  0.0084],\n",
       "         [ 0.0623, -0.0596,  0.0307,  ..., -0.0920,  0.1080, -0.0183],\n",
       "         [ 0.1259, -0.0145,  0.0332,  ...,  0.0121,  0.0342,  0.0168]]))"
      ]
     },
     "execution_count": 8,
     "metadata": {},
     "output_type": "execute_result"
    }
   ],
   "source": [
    "list(longformer_model.embeddings.state_dict().items())[1]"
   ]
  },
  {
   "cell_type": "code",
   "execution_count": 9,
   "id": "12a8d684-d7a6-47c9-902c-dfd6a59b1dfb",
   "metadata": {},
   "outputs": [
    {
     "data": {
      "text/plain": [
       "('word_embeddings.weight',\n",
       " tensor([[ 0.1476, -0.0365,  0.0753,  ..., -0.0023,  0.0172, -0.0016],\n",
       "         [ 0.0156,  0.0076, -0.0118,  ..., -0.0022,  0.0081, -0.0156],\n",
       "         [-0.0347, -0.0873, -0.0180,  ...,  0.1174, -0.0098, -0.0355],\n",
       "         ...,\n",
       "         [ 0.0304,  0.0504, -0.0307,  ...,  0.0377,  0.0096,  0.0084],\n",
       "         [ 0.0623, -0.0596,  0.0307,  ..., -0.0920,  0.1080, -0.0183],\n",
       "         [ 0.1259, -0.0145,  0.0332,  ...,  0.0121,  0.0342,  0.0168]]))"
      ]
     },
     "execution_count": 9,
     "metadata": {},
     "output_type": "execute_result"
    }
   ],
   "source": [
    "list(roberta_model.embeddings.state_dict().items())[1]"
   ]
  },
  {
   "cell_type": "code",
   "execution_count": 10,
   "id": "294af7bd-7ca0-401e-9025-8caf3d7d9245",
   "metadata": {},
   "outputs": [
    {
     "data": {
      "text/plain": [
       "('position_ids', tensor([[   0,    1,    2,  ..., 8191, 8192, 8193]]))"
      ]
     },
     "execution_count": 10,
     "metadata": {},
     "output_type": "execute_result"
    }
   ],
   "source": [
    "list(longformer_model.embeddings.state_dict().items())[0]"
   ]
  },
  {
   "cell_type": "code",
   "execution_count": null,
   "id": "0568a69d-371a-4649-947f-9c47081103d5",
   "metadata": {},
   "outputs": [],
   "source": []
  }
 ],
 "metadata": {
  "kernelspec": {
   "display_name": "Python 3 (ipykernel)",
   "language": "python",
   "name": "python3"
  },
  "language_info": {
   "codemirror_mode": {
    "name": "ipython",
    "version": 3
   },
   "file_extension": ".py",
   "mimetype": "text/x-python",
   "name": "python",
   "nbconvert_exporter": "python",
   "pygments_lexer": "ipython3",
   "version": "3.9.7"
  }
 },
 "nbformat": 4,
 "nbformat_minor": 5
}
